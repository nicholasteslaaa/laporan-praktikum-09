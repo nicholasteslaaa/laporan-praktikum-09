{
 "cells": [
  {
   "cell_type": "markdown",
   "id": "26e3d5bd",
   "metadata": {},
   "source": [
    "latihan mandiri 1"
   ]
  },
  {
   "cell_type": "code",
   "execution_count": null,
   "metadata": {},
   "outputs": [],
   "source": [
    "def tiga_nilai_terbaik(set_nilai):\n",
    "    set_nilai = sorted(set(set_nilai))[::-1]\n",
    "    tiga_terbaik = set_nilai[:3]\n",
    "    return tiga_terbaik\n",
    "    \n",
    "\n",
    "print(tiga_nilai_terbaik([85, 36, 21, 67, 86, 53, 71, 94, 47, 29]))\n",
    "print(tiga_nilai_terbaik([20, 66, 94, 9, 86, 55, 73, 35, 19, 32]))\n",
    "print(tiga_nilai_terbaik([65, 51, 94, 42, 32, 43, 35, 89, 4, 12]))\n",
    "print(tiga_nilai_terbaik([10, 76, 38, 34, 65, 95, 71, 29, 11, 49]))\n",
    "print(tiga_nilai_terbaik([85, 54, 40, 6, 91, 29, 7, 15, 79, 32]))\n",
    "print(tiga_nilai_terbaik([31, 27, 5, 84, 45, 50, 90, 61, 34, 85]))"
   ]
  },
  {
   "cell_type": "markdown",
   "id": "ca79437e",
   "metadata": {},
   "source": [
    "latihan mandiri 2"
   ]
  },
  {
   "cell_type": "code",
   "execution_count": null,
   "id": "83d3236a",
   "metadata": {},
   "outputs": [],
   "source": [
    "x = []\n",
    "\n",
    "while True:\n",
    "    try:\n",
    "        a = str(input(\": \"))\n",
    "        if a == \"done\":\n",
    "            break\n",
    "        else:\n",
    "            x.append(int(a))\n",
    "            print(f\"{a} ditambahkan ke list\")\n",
    "    except:\n",
    "        print(\"masukan angka\")\n",
    "    \n",
    "print(f\"\\nlist: {x}\")\n",
    "print(f\"nilai paling kecil: {min(set(x))}, nilai paling besar {max(set(x))}\")    "
   ]
  },
  {
   "cell_type": "markdown",
   "id": "c0d3c9aa",
   "metadata": {},
   "source": [
    "latihan mandiri 3"
   ]
  },
  {
   "cell_type": "code",
   "execution_count": 2,
   "id": "4ed60334",
   "metadata": {},
   "outputs": [
    {
     "name": "stdout",
     "output_type": "stream",
     "text": [
      "=======ISI BERITA=======\n",
      "Sementara itu, laporan Bank Sentral AS menunjukkan perekonomian terbesar dunia i ni akan semakin memburuk ke depan. Termasuk tingkat pengangguran yang diramalkan akan terus naik, akibat terhentinya aktivitas ekonomi karena wabah. Dana Monete r Internasional (IMF) juga sempat meramalkan, pertumbuhan ekonomi global akan me lambat di tahun 2020. Hal ini terjadi akibat pandemi virus corona yang berlangsu ng sejak awal tahun 2020, menyebabkan industri mengalami banyak kerugian.\n",
      "\n",
      "=======Kata Unik Pada Berita=======\n",
      "['Sementara', 'itu', 'laporan', 'Bank', 'Sentral', 'AS', 'menunjukkan', 'perekonomian', 'terbesar', 'dunia', 'i', 'ni', 'akan', 'semakin', 'memburuk', 'ke', 'depan', 'Termasuk', 'tingkat', 'pengangguran', 'yang', 'diramalkan', 'akan', 'terus', 'naik', 'akibat', 'terhentinya', 'aktivitas', 'ekonomi', 'karena', 'wabah', 'Dana', 'Monete', 'r', 'Internasional', 'IMF', 'juga', 'sempat', 'meramalkan', 'pertumbuhan', 'ekonomi', 'global', 'akan', 'me', 'lambat', 'di', 'tahun', 'Hal', 'ini', 'terjadi', 'akibat', 'pandemi', 'virus', 'corona', 'yang', 'berlangsu', 'ng', 'sejak', 'awal', 'tahun', 'menyebabkan', 'industri', 'mengalami', 'banyak', 'kerugian']\n"
     ]
    }
   ],
   "source": [
    "file = open(\"brita.txt\")\n",
    "\n",
    "base = \"\"\n",
    "print(f\"{\"=\"*7}ISI BERITA{\"=\"*7}\")\n",
    "\n",
    "for i in file:\n",
    "    print(i)\n",
    "    for j in i:\n",
    "        if j.isalpha() or j == \" \":\n",
    "            base+=j\n",
    "\n",
    "base_split = base.split()\n",
    "\n",
    "print(f\"\\n{\"=\"*7}Kata Unik Pada Berita{\"=\"*7}\\n{base_split}\")"
   ]
  }
 ],
 "metadata": {
  "kernelspec": {
   "display_name": "Python 3",
   "language": "python",
   "name": "python3"
  },
  "language_info": {
   "codemirror_mode": {
    "name": "ipython",
    "version": 3
   },
   "file_extension": ".py",
   "mimetype": "text/x-python",
   "name": "python",
   "nbconvert_exporter": "python",
   "pygments_lexer": "ipython3",
   "version": "3.12.1"
  }
 },
 "nbformat": 4,
 "nbformat_minor": 5
}
